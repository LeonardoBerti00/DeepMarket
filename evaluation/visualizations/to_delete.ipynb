{
 "cells": [
  {
   "cell_type": "code",
   "execution_count": 1,
   "metadata": {},
   "outputs": [
    {
     "name": "stderr",
     "output_type": "stream",
     "text": [
      "c:\\Users\\marco\\AppData\\Local\\Programs\\Python\\Python310\\lib\\site-packages\\tqdm\\auto.py:22: TqdmWarning: IProgress not found. Please update jupyter and ipywidgets. See https://ipywidgets.readthedocs.io/en/stable/user_install.html\n",
      "  from .autonotebook import tqdm as notebook_tqdm\n"
     ]
    }
   ],
   "source": [
    "import torch\n",
    "from sklearn.decomposition import PCA\n",
    "import pandas as pd\n",
    "\n",
    "\n",
    "class PCA2D(torch.nn.Module):\n",
    "    def __init__(self, n_components=2):\n",
    "        super(PCA2D, self).__init__()\n",
    "        self.n_components = n_components\n",
    "        self.pca = PCA(n_components=n_components)\n",
    "\n",
    "    def forward(self, x):\n",
    "        x = torch.Tensor(x.values)  # Convert DataFrame to NumPy array first\n",
    "        x = self.pca.fit_transform(x)\n",
    "        return x\n",
    "    \n",
    "from sklearn.manifold import TSNE\n",
    "import torch\n",
    "\n",
    "class TSNE2D(torch.nn.Module):\n",
    "    def __init__(self, n_components=2):\n",
    "        super(TSNE2D, self).__init__()\n",
    "        self.n_components = n_components\n",
    "        self.tsne = TSNE(n_components=n_components)\n",
    "\n",
    "    def forward(self, x):\n",
    "        x = torch.Tensor(x.values)  # Convert DataFrame to NumPy array first\n",
    "        x = self.tsne.fit_transform(x)\n",
    "        return x"
   ]
  },
  {
   "cell_type": "code",
   "execution_count": 2,
   "metadata": {},
   "outputs": [],
   "source": [
    "import pandas as pd\n",
    "\n",
    "# open csv file as pandas dataframe\n",
    "df = pd.read_csv(r'C:\\Users\\marco\\OneDrive\\Documenti\\afc\\afc_project\\Diffusion-Models-for-Time-Series\\data\\TSLA\\TSLA_2015-01-02_2015-01-30\\TSLA_2015-01-05_34200000_57600000_message_10.csv', header=None)"
   ]
  },
  {
   "cell_type": "code",
   "execution_count": 3,
   "metadata": {},
   "outputs": [],
   "source": [
    "# delete third column\n",
    "df = df.drop(df.columns[2], axis=1)\n",
    "\n",
    "# rename the columns into time, event_type, size, price, direction\n",
    "df.columns = ['time', 'event_type', 'size', 'price', 'direction']\n",
    "\n",
    "# divide the column time by 100000\n",
    "df['time'] = df['time']/100000\n",
    "\n",
    "# one hot encoding for the feature event_type\n",
    "df = pd.get_dummies(df, columns=['event_type'])\n",
    "\n",
    "# standardize the features size and price\n",
    "df['price'] = (df['price'] - df['price'].mean())/df['price'].std()\n",
    "df['size'] = (df['size'] - df['size'].mean())/df['size'].std()\n",
    "\n",
    "# one hot encoding for the feature direction\n",
    "df = pd.get_dummies(df, columns=['direction'])"
   ]
  },
  {
   "cell_type": "code",
   "execution_count": 4,
   "metadata": {},
   "outputs": [],
   "source": [
    "pca2d = PCA2D(n_components=2).forward(df)"
   ]
  },
  {
   "cell_type": "code",
   "execution_count": 10,
   "metadata": {},
   "outputs": [],
   "source": [
    "df_ = pd.read_csv(r'C:\\Users\\marco\\OneDrive\\Documenti\\afc\\afc_project\\Diffusion-Models-for-Time-Series\\data\\TSLA\\TSLA_2015-01-02_2015-01-30\\TSLA_2015-01-06_34200000_57600000_message_10.csv', header=None)\n",
    "\n",
    "# delete third column\n",
    "df_ = df_.drop(df_.columns[2], axis=1)\n",
    "\n",
    "# rename the columns into time, event_type, size, price, direction\n",
    "df_.columns = ['time', 'event_type', 'size', 'price', 'direction']\n",
    "\n",
    "# divide the column time by 100000\n",
    "df_['time'] = df_['time']/100000\n",
    "\n",
    "# one hot encoding for the feature event_type\n",
    "df_ = pd.get_dummies(df_, columns=['event_type'])\n",
    "\n",
    "# standardize the features size and price\n",
    "df_['price'] = (df_['price'] - df_['price'].mean())/df_['price'].std()\n",
    "df_['size'] = (df_['size'] - df_['size'].mean())/df_['size'].std()\n",
    "\n",
    "# one hot encoding for the feature direction\n",
    "df_ = pd.get_dummies(df_, columns=['direction'])\n",
    "pca2d_ = PCA2D(n_components=2).forward(df_)"
   ]
  },
  {
   "cell_type": "code",
   "execution_count": 8,
   "metadata": {},
   "outputs": [
    {
     "data": {
      "image/png": "[encoded data removed]",
      "text/plain": [
       "<Figure size 640x480 with 1 Axes>"
      ]
     },
     "metadata": {},
     "output_type": "display_data"
    }
   ],
   "source": [
    "import matplotlib.pyplot as plt\n",
    "\n",
    "# Plot pca2d in red\n",
    "plt.scatter(pca2d[:, 0], pca2d[:, 1], color='red', label='pca2d')\n",
    "\n",
    "# Plot pca2d_ in blue\n",
    "plt.scatter(pca2d_[:, 0], pca2d_[:, 1], color='blue', label='pca2d_')\n",
    "\n",
    "# Limit x and y axes\n",
    "plt.xlim(0, 100)\n",
    "plt.ylim(0, 100)\n",
    "\n",
    "# Add legend and title\n",
    "plt.legend()\n",
    "plt.title('PCA2D Plot')\n",
    "\n",
    "# Show the plot\n",
    "plt.show()\n",
    "\n",
    "######## QUESTO è ESEMPIO PCA ########"
   ]
  }
 ],
 "metadata": {
  "kernelspec": {
   "display_name": "Python 3",
   "language": "python",
   "name": "python3"
  },
  "language_info": {
   "codemirror_mode": {
    "name": "ipython",
    "version": 3
   },
   "file_extension": ".py",
   "mimetype": "text/x-python",
   "name": "python",
   "nbconvert_exporter": "python",
   "pygments_lexer": "ipython3",
   "version": "3.10.9"
  }
 },
 "nbformat": 4,
 "nbformat_minor": 2
}
