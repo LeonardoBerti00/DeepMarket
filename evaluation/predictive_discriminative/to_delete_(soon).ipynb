{
 "cells": [
  {
   "cell_type": "code",
   "execution_count": 17,
   "metadata": {},
   "outputs": [
    {
     "name": "stdout",
     "output_type": "stream",
     "text": [
      "              0  1        2      3        4  5\n",
      "0  34200.006789  5        0     13  2228300  1\n",
      "1  34200.034290  6       -1  17011  2228700 -1\n",
      "2  34200.034290  1  5519048     11  2227500  1\n",
      "3  34200.034290  1  2142274     10  2230000 -1\n",
      "4  34200.034290  1  2629509    200  2226000  1\n"
     ]
    }
   ],
   "source": [
    "import pandas as pd\n",
    "\n",
    "df = pd.read_csv(r'C:\\Users\\marco\\Documents\\AFC\\Diffusion-Models-for-Time-Series\\data\\TSLA\\TSLA_2015-01-02_2015-01-30\\TSLA_2015-01-02_34200000_57600000_message_10.csv', header=None)\n",
    "print(df.head())\n"
   ]
  },
  {
   "cell_type": "code",
   "execution_count": 18,
   "metadata": {},
   "outputs": [],
   "source": [
    "# delete column \"2\"\n",
    "df.drop(df.columns[2], axis=1, inplace=True)"
   ]
  },
  {
   "cell_type": "code",
   "execution_count": 19,
   "metadata": {},
   "outputs": [
    {
     "name": "stdout",
     "output_type": "stream",
     "text": [
      "              0  1      3        4  5\n",
      "0  34200.006789  5     13  2228300  1\n",
      "1  34200.034290  6  17011  2228700 -1\n",
      "2  34200.034290  1     11  2227500  1\n",
      "3  34200.034290  1     10  2230000 -1\n",
      "4  34200.034290  1    200  2226000  1\n"
     ]
    }
   ],
   "source": [
    "print(df.head())"
   ]
  },
  {
   "cell_type": "code",
   "execution_count": 20,
   "metadata": {},
   "outputs": [
    {
     "name": "stdout",
     "output_type": "stream",
     "text": [
      "              0  1      3        4  5  6\n",
      "0  34200.006789  5     13  2228300  1  0\n",
      "1  34200.034290  6  17011  2228700 -1  0\n",
      "2  34200.034290  1     11  2227500  1  1\n",
      "3  34200.034290  1     10  2230000 -1  0\n",
      "4  34200.034290  1    200  2226000  1  0\n"
     ]
    }
   ],
   "source": [
    "# aggiungi una feature \"6\" che casualmente per ogni istanza può assumere valore 0 o 1 (50 e 50)\n",
    "import random\n",
    "random.seed(42)\n",
    "df['6'] = [random.randint(0, 1) for _ in range(len(df))]\n",
    "print(df.head())"
   ]
  },
  {
   "cell_type": "code",
   "execution_count": 21,
   "metadata": {},
   "outputs": [
    {
     "name": "stdout",
     "output_type": "stream",
     "text": [
      "           time  event_type   size    price  direction  generated\n",
      "0  34200.006789           5     13  2228300          1          0\n",
      "1  34200.034290           6  17011  2228700         -1          0\n",
      "2  34200.034290           1     11  2227500          1          1\n",
      "3  34200.034290           1     10  2230000         -1          0\n",
      "4  34200.034290           1    200  2226000          1          0\n"
     ]
    }
   ],
   "source": [
    "# rename columns as \"time\", \"event_type\", \"size\", \"price\", \"direction\", \"generated\"\n",
    "df.columns = [\"time\", \"event_type\", \"size\", \"price\", \"direction\", \"generated\"]\n",
    "print(df.head())"
   ]
  },
  {
   "cell_type": "code",
   "execution_count": 22,
   "metadata": {},
   "outputs": [],
   "source": [
    "# direction one hot, generated one hot, price normalization between 0 and 1, size normalization between 0 and 1, event_type one hot, time divide by 100000\n",
    "\n",
    "# direction one hot\n",
    "df = pd.get_dummies(df, columns=['direction'])\n",
    "\n",
    "# price normalization between 0 and 1\n",
    "df['price'] = (df['price'] - df['price'].min()) / (df['price'].max() - df['price'].min())\n",
    "\n",
    "# size normalization between 0 and 1\n",
    "df['size'] = (df['size'] - df['size'].min()) / (df['size'].max() - df['size'].min())\n",
    "\n",
    "# event_type one hot\n",
    "df = pd.get_dummies(df, columns=['event_type'])\n",
    "\n",
    "# time divide by 100000\n",
    "df['time'] = df['time'] / 100000"
   ]
  },
  {
   "cell_type": "code",
   "execution_count": 23,
   "metadata": {},
   "outputs": [
    {
     "data": {
      "text/html": [
       "<div>\n",
       "<style scoped>\n",
       "    .dataframe tbody tr th:only-of-type {\n",
       "        vertical-align: middle;\n",
       "    }\n",
       "\n",
       "    .dataframe tbody tr th {\n",
       "        vertical-align: top;\n",
       "    }\n",
       "\n",
       "    .dataframe thead th {\n",
       "        text-align: right;\n",
       "    }\n",
       "</style>\n",
       "<table border=\"1\" class=\"dataframe\">\n",
       "  <thead>\n",
       "    <tr style=\"text-align: right;\">\n",
       "      <th></th>\n",
       "      <th>time</th>\n",
       "      <th>size</th>\n",
       "      <th>price</th>\n",
       "      <th>generated</th>\n",
       "      <th>direction_-1</th>\n",
       "      <th>direction_1</th>\n",
       "      <th>event_type_1</th>\n",
       "      <th>event_type_2</th>\n",
       "      <th>event_type_3</th>\n",
       "      <th>event_type_4</th>\n",
       "      <th>event_type_5</th>\n",
       "      <th>event_type_6</th>\n",
       "    </tr>\n",
       "  </thead>\n",
       "  <tbody>\n",
       "    <tr>\n",
       "      <th>0</th>\n",
       "      <td>0.342</td>\n",
       "      <td>0.000705</td>\n",
       "      <td>0.885996</td>\n",
       "      <td>0</td>\n",
       "      <td>0</td>\n",
       "      <td>1</td>\n",
       "      <td>0</td>\n",
       "      <td>0</td>\n",
       "      <td>0</td>\n",
       "      <td>0</td>\n",
       "      <td>1</td>\n",
       "      <td>0</td>\n",
       "    </tr>\n",
       "    <tr>\n",
       "      <th>1</th>\n",
       "      <td>0.342</td>\n",
       "      <td>1.000000</td>\n",
       "      <td>0.889587</td>\n",
       "      <td>0</td>\n",
       "      <td>1</td>\n",
       "      <td>0</td>\n",
       "      <td>0</td>\n",
       "      <td>0</td>\n",
       "      <td>0</td>\n",
       "      <td>0</td>\n",
       "      <td>0</td>\n",
       "      <td>1</td>\n",
       "    </tr>\n",
       "    <tr>\n",
       "      <th>2</th>\n",
       "      <td>0.342</td>\n",
       "      <td>0.000588</td>\n",
       "      <td>0.878815</td>\n",
       "      <td>1</td>\n",
       "      <td>0</td>\n",
       "      <td>1</td>\n",
       "      <td>1</td>\n",
       "      <td>0</td>\n",
       "      <td>0</td>\n",
       "      <td>0</td>\n",
       "      <td>0</td>\n",
       "      <td>0</td>\n",
       "    </tr>\n",
       "    <tr>\n",
       "      <th>3</th>\n",
       "      <td>0.342</td>\n",
       "      <td>0.000529</td>\n",
       "      <td>0.901257</td>\n",
       "      <td>0</td>\n",
       "      <td>1</td>\n",
       "      <td>0</td>\n",
       "      <td>1</td>\n",
       "      <td>0</td>\n",
       "      <td>0</td>\n",
       "      <td>0</td>\n",
       "      <td>0</td>\n",
       "      <td>0</td>\n",
       "    </tr>\n",
       "    <tr>\n",
       "      <th>4</th>\n",
       "      <td>0.342</td>\n",
       "      <td>0.011699</td>\n",
       "      <td>0.865350</td>\n",
       "      <td>0</td>\n",
       "      <td>0</td>\n",
       "      <td>1</td>\n",
       "      <td>1</td>\n",
       "      <td>0</td>\n",
       "      <td>0</td>\n",
       "      <td>0</td>\n",
       "      <td>0</td>\n",
       "      <td>0</td>\n",
       "    </tr>\n",
       "  </tbody>\n",
       "</table>\n",
       "</div>"
      ],
      "text/plain": [
       "    time      size     price  generated  direction_-1  direction_1  \\\n",
       "0  0.342  0.000705  0.885996          0             0            1   \n",
       "1  0.342  1.000000  0.889587          0             1            0   \n",
       "2  0.342  0.000588  0.878815          1             0            1   \n",
       "3  0.342  0.000529  0.901257          0             1            0   \n",
       "4  0.342  0.011699  0.865350          0             0            1   \n",
       "\n",
       "   event_type_1  event_type_2  event_type_3  event_type_4  event_type_5  \\\n",
       "0             0             0             0             0             1   \n",
       "1             0             0             0             0             0   \n",
       "2             1             0             0             0             0   \n",
       "3             1             0             0             0             0   \n",
       "4             1             0             0             0             0   \n",
       "\n",
       "   event_type_6  \n",
       "0             0  \n",
       "1             1  \n",
       "2             0  \n",
       "3             0  \n",
       "4             0  "
      ]
     },
     "execution_count": 23,
     "metadata": {},
     "output_type": "execute_result"
    }
   ],
   "source": [
    "df.head()"
   ]
  },
  {
   "cell_type": "code",
   "execution_count": 29,
   "metadata": {},
   "outputs": [],
   "source": [
    "device = torch.device(\"cuda\" if torch.cuda.is_available() else \"cpu\")"
   ]
  },
  {
   "cell_type": "code",
   "execution_count": 26,
   "metadata": {},
   "outputs": [],
   "source": [
    "import torch\n",
    "from torch import nn\n",
    "from torch.utils.data import TensorDataset, DataLoader\n",
    "from sklearn.model_selection import train_test_split\n",
    "\n",
    "# Assuming df is your DataFrame and it's already preprocessed\n",
    "features = df.drop('generated', axis=1).values\n",
    "labels = df['generated'].values\n",
    "\n",
    "# Reshape input to be 3D [samples, timesteps, features]\n",
    "features = features.reshape((features.shape[0], 1, features.shape[1]))\n",
    "\n",
    "# Split the data into training and test sets\n",
    "train_X, test_X, train_y, test_y = train_test_split(features, labels, test_size=0.2, random_state=42)\n",
    "\n",
    "# Convert to PyTorch tensors\n",
    "train_X = torch.tensor(train_X, dtype=torch.float32)\n",
    "train_y = torch.tensor(train_y, dtype=torch.float32)\n",
    "test_X = torch.tensor(test_X, dtype=torch.float32)\n",
    "test_y = torch.tensor(test_y, dtype=torch.float32)\n",
    "\n",
    "# Create data loaders\n",
    "train_data = TensorDataset(train_X, train_y)\n",
    "train_loader = DataLoader(train_data, batch_size=72)\n",
    "test_data = TensorDataset(test_X, test_y)\n",
    "test_loader = DataLoader(test_data, batch_size=72)\n",
    "\n",
    "# Define the LSTM model\n",
    "class LSTMModel(nn.Module):\n",
    "    def __init__(self, input_size, hidden_size, num_layers, output_size):\n",
    "        super(LSTMModel, self).__init__()\n",
    "        self.hidden_size = hidden_size\n",
    "        self.num_layers = num_layers\n",
    "        self.lstm = nn.LSTM(input_size, hidden_size, num_layers, batch_first=True)\n",
    "        self.fc = nn.Linear(hidden_size, output_size, device=device)\n",
    "\n",
    "    def forward(self, x):\n",
    "        h0 = torch.zeros(self.num_layers, x.size(0), self.hidden_size).to(x.device) \n",
    "        c0 = torch.zeros(self.num_layers, x.size(0), self.hidden_size).to(x.device)\n",
    "        out, _ = self.lstm(x, (h0, c0))  \n",
    "        out = self.fc(out[:, -1, :])\n",
    "        return out\n",
    "\n",
    "# Instantiate the model\n",
    "model = LSTMModel(input_size=train_X.shape[2], hidden_size=128, num_layers=2, output_size=1, device=device)\n",
    "\n",
    "# Define loss and optimizer\n",
    "criterion = nn.BCEWithLogitsLoss()\n",
    "optimizer = torch.optim.Adam(model.parameters())\n",
    "\n",
    "# Train the model\n",
    "for epoch in range(50):\n",
    "    for inputs, labels in train_loader:\n",
    "        optimizer.zero_grad()\n",
    "        output = model(inputs)\n",
    "        loss = criterion(output, labels.unsqueeze(1))\n",
    "        loss.backward()\n",
    "        optimizer.step()"
   ]
  },
  {
   "cell_type": "code",
   "execution_count": 28,
   "metadata": {},
   "outputs": [
    {
     "name": "stdout",
     "output_type": "stream",
     "text": [
      "Test Accuracy: 49.98%\n"
     ]
    }
   ],
   "source": [
    "# Switch to evaluation mode\n",
    "model.eval()\n",
    "\n",
    "# Initialize the prediction and label lists(tensors)\n",
    "test_preds = torch.Tensor().to(train_X.device)\n",
    "test_labels = torch.Tensor().to(train_X.device)\n",
    "\n",
    "with torch.no_grad():\n",
    "    for inputs, labels in test_loader:\n",
    "        output = model(inputs)\n",
    "        test_preds = torch.cat((test_preds, output), dim=0)\n",
    "        test_labels = torch.cat((test_labels, labels.unsqueeze(1)), dim=0)\n",
    "\n",
    "# Apply sigmoid function to output probabilities between 0 and 1\n",
    "test_preds = torch.sigmoid(test_preds)\n",
    "\n",
    "# Convert probabilities to binary predictions (0 or 1)\n",
    "test_preds_binary = (test_preds > 0.5).float()\n",
    "\n",
    "# Calculate the accuracy of the model\n",
    "accuracy = (test_preds_binary == test_labels).sum().item() / test_labels.numel()\n",
    "\n",
    "print(f'Test Accuracy: {accuracy * 100:.2f}%')"
   ]
  }
 ],
 "metadata": {
  "kernelspec": {
   "display_name": "Python 3",
   "language": "python",
   "name": "python3"
  },
  "language_info": {
   "codemirror_mode": {
    "name": "ipython",
    "version": 3
   },
   "file_extension": ".py",
   "mimetype": "text/x-python",
   "name": "python",
   "nbconvert_exporter": "python",
   "pygments_lexer": "ipython3",
   "version": "3.10.9"
  }
 },
 "nbformat": 4,
 "nbformat_minor": 2
}
